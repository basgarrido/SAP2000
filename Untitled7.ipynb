{
 "cells": [
  {
   "cell_type": "code",
   "execution_count": 1,
   "metadata": {},
   "outputs": [],
   "source": [
    "import os\n",
    "import sys\n",
    "import comtypes.client\n",
    "import numpy as np\n",
    "\n",
    "#set the following flag to True to attach to an existing instance of the program\n",
    "#otherwise a new instance of the program will be started\n",
    "AttachToInstance = False\n",
    "\n",
    "#set the following flag to True to manually specify the path to SAP2000.exe\n",
    "#this allows for a connection to a version of SAP2000 other than the latest installation\n",
    "#otherwise the latest installed version of SAP2000 will be launched\n",
    "SpecifyPath = False\n",
    "\n",
    "#if the above flag is set to True, specify the path to SAP2000 below\n",
    "ProgramPath = 'C:\\Program Files\\Computers and Structures\\SAP2000 20\\SAP2000.exe'\n",
    "\n",
    "#full path to the model\n",
    "#set it to the desired path of your model\n",
    "APIPath = 'C:\\CSiAPIexample'"
   ]
  },
  {
   "cell_type": "code",
   "execution_count": 2,
   "metadata": {},
   "outputs": [],
   "source": [
    "if not os.path.exists(APIPath):\n",
    "    try:\n",
    "        os.makedirs(APIPath)\n",
    "    except OSError:\n",
    "        pass\n",
    "ModelPath = APIPath + os.sep + 'API_70_Shear.sdb'\n",
    "#https://www.youtube.com/watch?v=QRdXGi0g0BE\n",
    "\n",
    "if AttachToInstance:\n",
    "    #attach to a running instance of SAP2000\n",
    "    try:\n",
    "        #get the active SapObject\n",
    "        mySapObject = comtypes.client.GetActiveObject(\"CSI.SAP2000.API.SapObject\")\n",
    "    except (OSError, comtypes.COMError):\n",
    "        print(\"No running instance of the program found or failed to attach.\")\n",
    "        sys.exit(-1)\n",
    "else:\n",
    "    #create API helper object\n",
    "    helper = comtypes.client.CreateObject('SAP2000v20.Helper')\n",
    "    helper = helper.QueryInterface(comtypes.gen.SAP2000v20.cHelper)\n",
    "    if SpecifyPath:\n",
    "        try:\n",
    "            #'create an instance of the SAPObject from the specified path\n",
    "            mySapObject = helper.CreateObject(ProgramPath)\n",
    "        except (OSError, comtypes.COMError):\n",
    "            print(\"Cannot start a new instance of the program from \" + ProgramPath)\n",
    "            sys.exit(-1)\n",
    "    else:\n",
    "        try:\n",
    "            #create an instance of the SAPObject from the latest installed SAP2000\n",
    "            mySapObject = helper.CreateObjectProgID(\"CSI.SAP2000.API.SapObject\")\n",
    "        except (OSError, comtypes.COMError):\n",
    "            print(\"Cannot start a new instance of the program.\")\n",
    "            sys.exit(-1)"
   ]
  },
  {
   "cell_type": "code",
   "execution_count": 3,
   "metadata": {},
   "outputs": [],
   "source": [
    "#start SAP2000 application\n",
    "mySapObject.ApplicationStart()\n",
    "    \n",
    "#create SapModel object\n",
    "SapModel = mySapObject.SapModel\n",
    "\n",
    "#initialize model\n",
    "SapModel.InitializeNewModel()\n",
    "\n",
    "#open an existing file\n",
    "FileName = 'C:\\CSiAPIexample\\Muelle.sdb'\n",
    "ret = SapModel.File.OpenFile(FileName)\n"
   ]
  },
  {
   "cell_type": "code",
   "execution_count": 4,
   "metadata": {},
   "outputs": [],
   "source": [
    "#add static linear load case\n",
    "ret = SapModel.LoadCases.StaticLinear.SetCase('Ux')\n",
    "\n",
    "#set load data\n",
    "MyLoadType= ['Accel']\n",
    "MyLoadName= ['Ux']\n",
    "MySF= [9.8067]\n",
    "\n",
    "ret = SapModel.LoadCases.StaticLinear.SetLoads('Ux', 1, MyLoadType, MyLoadName, MySF)"
   ]
  },
  {
   "cell_type": "code",
   "execution_count": 5,
   "metadata": {},
   "outputs": [],
   "source": [
    "#save model\n",
    "ret = SapModel.File.Save(ModelPath)"
   ]
  },
  {
   "cell_type": "code",
   "execution_count": 6,
   "metadata": {},
   "outputs": [
    {
     "name": "stdout",
     "output_type": "stream",
     "text": [
      "Porcentaje corte basal\n",
      "75.60166289629791\n"
     ]
    }
   ],
   "source": [
    "def Porcentaje():\n",
    "    #run model (this will create the analysis model)\n",
    "    ret = SapModel.Analyze.RunAnalysis()\n",
    "    \n",
    "    #Dimensioning variables\n",
    "    NumberResults = 0 \n",
    "    Obj = []\n",
    "    Elm = []\n",
    "    LoadCase = []\n",
    "    StepType = []\n",
    "    StepNum = []\n",
    "    Fx= [0]\n",
    "    Fy= [0] \n",
    "    Fz= [0] \n",
    "    Mx= [0] \n",
    "    My= [0] \n",
    "    Mz= [0] \n",
    "    gx= 0\n",
    "    gy= 0\n",
    "    gz= 0\n",
    "\n",
    "    #clear all case and combo output selections\n",
    "    ret = SapModel.Results.Setup.DeselectAllCasesAndCombosForOutput()\n",
    "\n",
    "    #set case and combo output selections\n",
    "    ret = SapModel.Results.Setup.SetCaseSelectedForOutput('Ux')\n",
    "    \n",
    "    #get base reactions\n",
    "    [NumberResults, LoadCase, StepType, StepNum, Fx, Fy, Fz, Mx, My, Mz, gx, gy, gz, ret] = SapModel.Results.BaseReact(NumberResults, LoadCase, StepType, StepNum, Fx, Fy, Fz, Mx, My, Mz, gx, gy, gz)\n",
    "\n",
    "    #Deselect all section cuts for output\n",
    "    ret = SapModel.Results.Setup.SelectAllSectionCutsForOutput(False)\n",
    "\n",
    "    NumberResults = 0\n",
    "    StepType = []\n",
    "    StepNum = []\n",
    "    SCut= []\n",
    "\n",
    "    F1= [0]\n",
    "    F2= [0] \n",
    "    F3= [0] \n",
    "    M1= [0] \n",
    "    M2= [0] \n",
    "    M3= [0]\n",
    "\n",
    "    #Select section cut for output\n",
    "    ret = SapModel.Results.Setup.SetSectionCutSelectedForOutput('APOYO E', True) \n",
    "\n",
    "    #get section cut forces with analysis output convention\n",
    "    [NumberResults, SCut, LoadCase, StepType, StepNum, F1, F2, F3, M1, M2, M3, ret] = SapModel.Results.SectionCutAnalysis(NumberResults, SCut, LoadCase, StepType, StepNum, F1, F2, F3, M1, M2, M3)\n",
    "\n",
    "    #c_x= Fx[LoadCase.index('Ex')]/Fx[LoadCase.index('Ux')]\n",
    "\n",
    "    print('Porcentaje corte basal')\n",
    "    print(F1[0]/Fx[0]*100)\n",
    "    return\n",
    "\n",
    "Porcentaje()"
   ]
  },
  {
   "cell_type": "code",
   "execution_count": 12,
   "metadata": {
    "scrolled": false
   },
   "outputs": [
    {
     "name": "stdout",
     "output_type": "stream",
     "text": [
      "Porcentaje corte basal\n",
      "69.8373847359198\n"
     ]
    }
   ],
   "source": [
    "#Unlock model\n",
    "ret = SapModel.SetModelIsLocked(False)\n",
    "\n",
    "#set new frame section property\n",
    "#ret = SapModel.PropFrame.SetISection('Viga Trans Corte', 'A345ES', 1.6, 0.7, 0.024, 0.15, 0.7, 0.024)\n",
    "\n",
    "#set new frame section property\n",
    "ret = SapModel.PropFrame.SetPipe('Eje A', 'ASTM A572 Gr. 50', 1.5748, 0.032)\n",
    "\n",
    "#set new frame section property\n",
    "#ret = SapModel.PropFrame.SetPipe('Eje B', 'ASTM A572 Gr. 50', 0.762, 0.02)\n",
    "\n",
    "#set new frame section property\n",
    "#ret = SapModel.PropFrame.SetPipe('Eje C', 'ASTM A572 Gr. 50', 0.762, 0.02)\n",
    "\n",
    "Porcentaje()\n",
    "\n",
    "#print('Cumplimiento 5.8 Analisis Especiales NCh2369')\n",
    "#if c_x2>c_x*1.25:\n",
    "#    #Unlock model\n",
    "#    ret = SapModel.SetModelIsLocked(False)\n",
    "#    Special_Spectrum(I2, Ao2, xi2, Ro, 1.25*c_x/c_x2)\n",
    "#    #run model (this will create the analysis model)\n",
    "#    ret = SapModel.Analyze.RunAnalysis()\n",
    "#    [c_x, c_y, c_x2, qmin, qespecial]= Corte()\n",
    "#elif c_x2<c_x*0.75:\n",
    "#    #Unlock model\n",
    "#    ret = SapModel.SetModelIsLocked(False)\n",
    "#    Special_Spectrum(I2, Ao2, xi2, Ro, 0.75*c_x/c_x2)\n",
    "#    #run model (this will create the analysis model)\n",
    "#    ret = SapModel.Analyze.RunAnalysis()\n",
    "#    [c_x, c_y, c_x2, qmin, qespecial]= Corte()\n",
    "#else:\n",
    "#    print('OK')"
   ]
  },
  {
   "cell_type": "code",
   "execution_count": null,
   "metadata": {},
   "outputs": [],
   "source": [
    "#close Sap2000\n",
    "ret = mySapObject.ApplicationExit(False)\n",
    "SapModel = None\n",
    "mySapObject = None"
   ]
  },
  {
   "cell_type": "code",
   "execution_count": null,
   "metadata": {},
   "outputs": [],
   "source": []
  }
 ],
 "metadata": {
  "kernelspec": {
   "display_name": "Python 3",
   "language": "python",
   "name": "python3"
  },
  "language_info": {
   "codemirror_mode": {
    "name": "ipython",
    "version": 3
   },
   "file_extension": ".py",
   "mimetype": "text/x-python",
   "name": "python",
   "nbconvert_exporter": "python",
   "pygments_lexer": "ipython3",
   "version": "3.7.0"
  }
 },
 "nbformat": 4,
 "nbformat_minor": 2
}
